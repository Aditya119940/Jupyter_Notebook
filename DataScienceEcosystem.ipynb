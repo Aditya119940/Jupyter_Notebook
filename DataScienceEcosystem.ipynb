{
 "cells": [
  {
   "cell_type": "markdown",
   "id": "a1378ba5-3f8c-4ba5-97e5-8907c5c64b6f",
   "metadata": {},
   "source": [
    "# Data Science Tools and Ecosystem"
   ]
  },
  {
   "cell_type": "markdown",
   "id": "8a20b016-206a-48f4-ad6a-75dfd49474cc",
   "metadata": {},
   "source": [
    "In this notebook, Data Science Tools and Ecosystem are summarized.\n"
   ]
  },
  {
   "cell_type": "markdown",
   "id": "77149789-ff27-486a-a1d1-7f1110b811ed",
   "metadata": {},
   "source": [
    "Some of the popular languages that Data Scientists use are:\r",
    "1. Python\n",
    "2. R\n",
    "3. SQL\n",
    "4. C++\n"
   ]
  },
  {
   "cell_type": "markdown",
   "id": "35f62fac-10c3-4afa-80fa-9979461a8c4d",
   "metadata": {},
   "source": [
    "Some of the commonly used libraries used by Data Scientists include:\n",
    "1. TensorFlow\n",
    "2. NumPy\n",
    "3. SciPy\n",
    "4. Matplotlib\n",
    "5. Pandas"
   ]
  },
  {
   "cell_type": "markdown",
   "id": "3f07a396-1a27-425a-9727-f097d9178d48",
   "metadata": {},
   "source": [
    "|Data Science Tools|\n",
    "--------------------\n",
    "|Apache Spark|\n",
    "|Apache Hadoop|\n",
    "|TensorFlow|"
   ]
  },
  {
   "cell_type": "markdown",
   "id": "a7d6f4e4-ffb5-498e-ad16-25d2083b2ecb",
   "metadata": {},
   "source": [
    "### Below are a few examples of evaluating arithmetic expressions in Python\n"
   ]
  },
  {
   "cell_type": "code",
   "execution_count": 10,
   "id": "cf30f716-97b8-4b3b-b606-d1670468fb83",
   "metadata": {},
   "outputs": [
    {
     "data": {
      "text/plain": [
       "17"
      ]
     },
     "execution_count": 10,
     "metadata": {},
     "output_type": "execute_result"
    }
   ],
   "source": [
    "#This a simple arithmetic expression to mutiply then add integers\n",
    "(3*4)+5"
   ]
  },
  {
   "cell_type": "code",
   "execution_count": 12,
   "id": "8724055f-4df9-49eb-93f1-6ed9e92f00de",
   "metadata": {},
   "outputs": [
    {
     "data": {
      "text/plain": [
       "3.3333333333333335"
      ]
     },
     "execution_count": 12,
     "metadata": {},
     "output_type": "execute_result"
    }
   ],
   "source": [
    "#This will convert 200 minutes to hours by diving by 60\n",
    "200/60"
   ]
  },
  {
   "cell_type": "markdown",
   "id": "900865ef-1613-40a6-86a6-ded141724dcc",
   "metadata": {},
   "source": [
    "**Objectives:**\n",
    "* List popular languages for Data Science\n",
    "* List commonly used libraries for Data Science\n",
    "* Data Science Tools\n",
    "* How to provide commnents in a cell\n",
    "* Evaluating arithmetic expressions using Python"
   ]
  },
  {
   "cell_type": "markdown",
   "id": "e112e036-c317-47b4-96e5-b91619607c26",
   "metadata": {},
   "source": [
    "## Author\n",
    "Aditya Singh"
   ]
  }
 ],
 "metadata": {
  "kernelspec": {
   "display_name": "Python 3 (ipykernel)",
   "language": "python",
   "name": "python3"
  },
  "language_info": {
   "codemirror_mode": {
    "name": "ipython",
    "version": 3
   },
   "file_extension": ".py",
   "mimetype": "text/x-python",
   "name": "python",
   "nbconvert_exporter": "python",
   "pygments_lexer": "ipython3",
   "version": "3.12.4"
  }
 },
 "nbformat": 4,
 "nbformat_minor": 5
}
